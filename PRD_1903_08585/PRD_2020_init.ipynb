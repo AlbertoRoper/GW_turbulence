{
 "cells": [
  {
   "cell_type": "code",
   "execution_count": 1,
   "metadata": {},
   "outputs": [
    {
     "name": "stdout",
     "output_type": "stream",
     "text": [
      "\n",
      "initialize_PRD_2020.py is a Python routine that reads the data, computes\n",
      "the averaged spectra using the specific time indices for each run at which\n",
      "the GW spectrum reaches its stationary regime (added by hand), and stores the\n",
      "resulting run variables as pickle files.\n",
      "The simulations are those of A. Roper Pol, S. Mandal, A. Brandenburg,\n",
      "T. Kahniashvili, and A. Kosowsky, \"Numerical simulations of gravitational\n",
      "waves from early-universe turbulence,\" Phys. Rev. D 102, 083512 (2020),\n",
      "https://arxiv.org/abs/1903.08585.\n",
      "\n",
      "The function run() executes the code.\n",
      "\n"
     ]
    }
   ],
   "source": [
    "import initialize_PRD_2020 as i\n",
    "print(i.__doc__)"
   ]
  },
  {
   "cell_type": "code",
   "execution_count": 14,
   "metadata": {
    "scrolled": true
   },
   "outputs": [
    {
     "name": "stdout",
     "output_type": "stream",
     "text": [
      "\n",
      "    Function that reads the runs from the Pencil Code simulations.\n",
      "\n",
      "    Returns:\n",
      "        runs -- dictionary that contains the run variables\n",
      "    \n"
     ]
    }
   ],
   "source": [
    "print(i.read_runs.__doc__)"
   ]
  },
  {
   "cell_type": "code",
   "execution_count": 15,
   "metadata": {
    "scrolled": true
   },
   "outputs": [
    {
     "name": "stdout",
     "output_type": "stream",
     "text": [
      "Reading run ini1\n",
      "\n",
      "Spectra computed: \n",
      "['GWh', 'mag', 'GWs', 'kin', 'helGWh', 'helGWs', 'helmag', 'helkin']\n",
      "\n",
      "\n",
      "Reading run ini2\n",
      "\n",
      "Spectra computed: \n",
      "['GWh', 'mag', 'GWs', 'kin', 'helGWh', 'helGWs', 'helmag', 'helkin']\n",
      "\n",
      "\n",
      "Reading run ini3\n",
      "\n",
      "Spectra computed: \n",
      "['GWh', 'mag', 'GWs', 'kin', 'helGWh', 'helGWs', 'helmag', 'helkin']\n",
      "\n",
      "\n",
      "Reading run hel1\n",
      "\n",
      "Spectra computed: \n",
      "['GWh', 'mag', 'GWs', 'SCL', 'kin', 'helGWh', 'helGWs', 'helmag', 'helkin']\n",
      "\n",
      "\n",
      "Reading run hel2\n",
      "\n",
      "Spectra computed: \n",
      "['Tpq', 'GWh', 'VCT', 'mag', 'GWs', 'SCL', 'Str', 'kin', 'helTpq', 'helVCT', 'helGWh', 'helGWs', 'helmag', 'helkin', 'helSCL', 'helStr']\n",
      "\n",
      "\n",
      "Reading run hel3\n",
      "\n",
      "Spectra computed: \n",
      "['GWh', 'mag', 'GWs', 'kin', 'helGWh', 'helGWs', 'helmag', 'helkin']\n",
      "\n",
      "\n",
      "Reading run hel4\n",
      "\n",
      "Spectra computed: \n",
      "['GWh', 'mag', 'GWs', 'kin', 'helGWh', 'helGWs', 'helmag', 'helkin']\n",
      "\n",
      "\n",
      "Reading run noh1\n",
      "\n",
      "Spectra computed: \n",
      "['Tpq', 'GWh', 'VCT', 'mag', 'GWs', 'SCL', 'Str', 'kin', 'helTpq', 'helVCT', 'helGWh', 'helGWs', 'helmag', 'helkin', 'helSCL', 'helStr']\n",
      "\n",
      "\n",
      "Reading run noh2\n",
      "\n",
      "Spectra computed: \n",
      "['GWh', 'mag', 'GWs', 'kin', 'helGWh', 'helGWs', 'helmag', 'helkin']\n",
      "\n",
      "\n",
      "Reading run ac1\n",
      "\n",
      "Spectra computed: \n",
      "['Tpq', 'GWh', 'VCT', 'GWs', 'SCL', 'Str', 'kin', 'helTpq', 'helVCT', 'helGWh', 'helGWs', 'helkin', 'helSCL', 'helStr']\n",
      "\n",
      "\n",
      "Reading run ac2\n",
      "\n",
      "Spectra computed: \n",
      "['Tpq', 'GWh', 'VCT', 'GWs', 'SCL', 'Str', 'kin', 'helTpq', 'helVCT', 'helGWh', 'helGWs', 'helkin', 'helSCL', 'helStr']\n",
      "\n",
      "\n",
      "Reading run ac3\n",
      "\n",
      "Spectra computed: \n",
      "['Tpq', 'GWh', 'VCT', 'GWs', 'SCL', 'Str', 'kin', 'helTpq', 'helVCT', 'helGWh', 'helGWs', 'helkin', 'helSCL', 'helStr']\n",
      "\n",
      "\n",
      "The runs that have been read are:\n",
      "['ini1', 'ini2', 'ini3', 'hel1', 'hel2', 'hel3', 'hel4', 'noh1', 'noh2', 'ac1', 'ac2', 'ac3']\n",
      "ini1 ( m ): Omega max:  0.1249 , kf:  707.9999895408381 , vA: 0.4328394621565829 , te:  0.0032631715055724112\n",
      "ini2 ( m ): Omega max:  0.007805 , kf:  707.9999895408381 , vA: 0.10820120147207239 , te:  0.013053731198735432\n",
      "ini3 ( m ): Omega max:  0.007805 , kf:  70.79999895408382 , vA: 0.10820120147207239 , te:  0.1305373119873543\n",
      "hel1 ( m ): Omega max:  0.02173 , kf:  704.5552756572857 , vA: 0.1805408541023333 , te:  0.00786157272127338\n",
      "hel2 ( m ): Omega max:  0.007192 , kf:  704.3812119846082 , vA: 0.10386529738079027 , te:  0.013668528656783726\n",
      "hel3 ( m ): Omega max:  0.004678 , kf:  707.9999636240489 , vA: 0.08376753547765386 , te:  0.016861298867701692\n",
      "hel4 ( m ): Omega max:  0.005730000960637114 , kf:  5999.999691729228 , vA: 0.09270923061354609 , te:  0.0017977355019209037\n",
      "noh1 ( m ): Omega max:  0.0144 , kf:  707.9999636240489 , vA: 0.14696938456699069 , te:  0.0096103651468699\n",
      "noh2 ( m ): Omega max:  0.004877 , kf:  707.9999636240489 , vA: 0.08553069624409707 , te:  0.016513713942753108\n",
      "ac1 ( k ): Omega max:  0.0133 , kf:  612.9999909442568 , vA: 0.16309506430300091 , te:  0.010002273222557383\n",
      "ac2 ( k ): Omega max:  0.01004 , kf:  612.9999909442568 , vA: 0.14170391667134682 , te:  0.011512182815614731\n",
      "ac3 ( k ): Omega max:  0.002882 , kf:  628.8092349739908 , vA: 0.07592101158440923 , te:  0.020946868321503925\n"
     ]
    }
   ],
   "source": [
    "runs = i.read_runs()"
   ]
  },
  {
   "cell_type": "code",
   "execution_count": null,
   "metadata": {},
   "outputs": [
    {
     "name": "stdout",
     "output_type": "stream",
     "text": [
      "tini:  1.0\n",
      "t[indt]:  1.1000547459724306\n",
      "len(t):  31\n"
     ]
    },
    {
     "data": {
      "text/plain": [
       "Text(0, 0.5, '$E_{\\\\rm GW}\\xa0(k)$')"
      ]
     },
     "execution_count": 19,
     "metadata": {},
     "output_type": "execute_result"
    }
   ],
   "source": [
    "# We now compute the average and maximum spectra over time\n",
    "# We study which is the index of the time array after which the spectra are no longer growing\n",
    "# but just oscillating\n",
    "\n",
    "### the resulting indices for the current runs are:\n",
    "### runs : ini1, ini2, ini3, hel1, hel2, hel3, hel4, noh1, noh2, ac1, ac2, ac3\n",
    "### indt : 3, 50, 300, 10, 20, 80, 15, 10, 30, 11, 10, 20\n",
    "\n",
    "import matplotlib.pyplot as plt\n",
    "import os\n",
    "CWD = os.getcwd()\n",
    "os.chdir('..')\n",
    "import plot_sets\n",
    "os.chdir(CWD)\n",
    "\n",
    "run = runs.get('ini1')\n",
    "t = run.spectra.get('t_GWs')\n",
    "\n",
    "plt.figure(figsize=(10,6))\n",
    "indt = 10\n",
    "run.min_max_stat(indt=indt, sp='EGW', plot=True)\n",
    "plot_sets.axes_lines()\n",
    "\n",
    "print('tini: ', run.tini)\n",
    "print('t[indt]: ', t[indt])\n",
    "print('len(t): ', len(t))\n",
    "plt.ylabel(r'$E_{\\rm GW} (k)$')"
   ]
  },
  {
   "cell_type": "code",
   "execution_count": null,
   "metadata": {},
   "outputs": [],
   "source": []
  }
 ],
 "metadata": {
  "kernelspec": {
   "display_name": "Python 3",
   "language": "python",
   "name": "python3"
  },
  "language_info": {
   "codemirror_mode": {
    "name": "ipython",
    "version": 3
   },
   "file_extension": ".py",
   "mimetype": "text/x-python",
   "name": "python",
   "nbconvert_exporter": "python",
   "pygments_lexer": "ipython3",
   "version": "3.8.5"
  }
 },
 "nbformat": 4,
 "nbformat_minor": 4
}
