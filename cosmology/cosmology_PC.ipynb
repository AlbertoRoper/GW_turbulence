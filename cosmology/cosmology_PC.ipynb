{
 "cells": [
  {
   "cell_type": "code",
   "execution_count": 1,
   "metadata": {},
   "outputs": [],
   "source": [
    "import os\n",
    "import numpy as np\n",
    "import matplotlib.pyplot as plt\n",
    "import astropy.units as u\n",
    "from IPython.display import Markdown as md\n",
    "import cosmology_plots as co_pl\n",
    "\n",
    "os.chdir('..')\n",
    "import cosmology as co\n",
    "import plot_sets\n",
    "os.chdir('cosmology')"
   ]
  },
  {
   "cell_type": "markdown",
   "metadata": {},
   "source": [
    "### We solve Friedmann equations to obtain $\\eta$, $a$, ${\\cal H}$, $a''/a$ that is required by the Pencil Code to solve the GW equation over cosmological simulations.\n",
    "\n",
    "### The notebook cosmology.ipynb includes detailed calculations and information on Friedmann equations and the solver."
   ]
  },
  {
   "cell_type": "code",
   "execution_count": 2,
   "metadata": {},
   "outputs": [
    {
     "name": "stdout",
     "output_type": "stream",
     "text": [
      "Entering Friedmann solver\n",
      "The results are saved in the file friedmann/solution.csv\n",
      "The input parameters used are stored in friedmann/README.txt\n",
      "Leaving Friedmann solver\n"
     ]
    }
   ],
   "source": [
    "# Constants of the model\n",
    "OmL0 = 0.6841      # Dark energy density as a fraction of present-time critical energy density\n",
    "h0 = 0.6732        # Hubble rate H0 = 100 h0 km/s/Mpc\n",
    "Neff = 3.          # effective number of neutrino species\n",
    "\n",
    "# directory where to read the file for variation of dofs during RD era\n",
    "dir0 = '../'\n",
    "\n",
    "# Array of scale factors\n",
    "a = np.logspace(-20, 2, 10000)\n",
    "\n",
    "# Use Friedmann solver to compute the cosmic and conformal time as functions of the scale\n",
    "# factor a\n",
    "t, eta, Om_tot, Om_rad, Om_matt, w, ad, add, ap, app = \\\n",
    "        co.friedmann_solver(a, a0=1., h0=h0, OmL0=OmL0, dir0=dir0, return_all=True,\n",
    "                            dofs=True, Neff=Neff, save=True)"
   ]
  },
  {
   "cell_type": "code",
   "execution_count": 14,
   "metadata": {},
   "outputs": [],
   "source": [
    "### For the Pencil Code, we generate an array of conformal times eta\n",
    "### that are equidistant in logspace\n",
    "\n",
    "etas_n = np.logspace(np.log10(eta[1].value), np.log10(eta[-1].value), 10000)\n",
    "a_n = np.interp(etas_n, eta.value, a)\n",
    "H_n = np.interp(etas_n, eta.value, ap.value/a)\n",
    "Hpp_n = np.interp(etas_n, eta.value, app.value/a)\n",
    "\n",
    "#### cut the values at small a that have some numerical artifacts\n",
    "#### from the initial conditions\n",
    "#### we take a > 1e-18\n",
    "a_good = a_n[np.where(a_n >= 1e-18)]\n",
    "eta_good = etas_n[np.where(a_n >= 1e-18)]\n",
    "Hp_good = H_n[np.where(a_n >= 1e-18)]\n",
    "Hpp_good = Hpp_n[np.where(a_n >= 1e-18)]"
   ]
  },
  {
   "cell_type": "code",
   "execution_count": 37,
   "metadata": {},
   "outputs": [],
   "source": [
    "#### Write file that is read by the Pencil Code\n",
    "# First line contains some info used to interpolate values within the\n",
    "# the Pencil Code\n",
    "# Rest of lines contain eta, a, a'/a and a''/a\n",
    "\n",
    "H0 = h0*100*u.km/u.s/u.Mpc\n",
    "H0 = H0.to(u.Hz)\n",
    "\n",
    "with open('friedmann/a_vs_eta.dat', 'w') as f:\n",
    "    f.write('%i, %.15f, %.15f, %.15e, %.4f \\n'%(len(eta_good), np.log10(eta_good[0]), \n",
    "                               np.log10(eta_good[1]/eta_good[0]), H0.value, 1-OmL0))\n",
    "    for i in range(0, len(a_good)):\n",
    "        f.write('%.15e %.15e %.15e %.15e \\n'%(eta_good[i], a_good[i],\n",
    "                                              Hp_good[i], Hpp_good[i]))"
   ]
  },
  {
   "cell_type": "code",
   "execution_count": 38,
   "metadata": {},
   "outputs": [
    {
     "name": "stdout",
     "output_type": "stream",
     "text": [
      "1e-20\n"
     ]
    },
    {
     "data": {
      "text/plain": [
       "<matplotlib.collections.LineCollection at 0x7fdb0d352d00>"
      ]
     },
     "execution_count": 38,
     "metadata": {},
     "output_type": "execute_result"
    },
    {
     "data": {
      "image/png": "[encoded data removed]",
      "text/plain": [
       "<Figure size 864x576 with 1 Axes>"
      ]
     },
     "metadata": {
      "needs_background": "light"
     },
     "output_type": "display_data"
    }
   ],
   "source": [
    "plt.figure(figsize=(12, 8))\n",
    "plt.plot(a, eta)\n",
    "plt.plot(a_n, etas_n)\n",
    "plt.loglog()\n",
    "plt.xlim(1e-20, 1e3)\n",
    "plt.plot(a_good, eta_good, '.')\n",
    "\n",
    "print(a[0])\n",
    "\n",
    "plt.vlines(1e-19, 1e-2, 1e4)"
   ]
  },
  {
   "cell_type": "code",
   "execution_count": null,
   "metadata": {},
   "outputs": [],
   "source": []
  }
 ],
 "metadata": {
  "kernelspec": {
   "display_name": "Python 3",
   "language": "python",
   "name": "python3"
  },
  "language_info": {
   "codemirror_mode": {
    "name": "ipython",
    "version": 3
   },
   "file_extension": ".py",
   "mimetype": "text/x-python",
   "name": "python",
   "nbconvert_exporter": "python",
   "pygments_lexer": "ipython3",
   "version": "3.8.5"
  }
 },
 "nbformat": 4,
 "nbformat_minor": 4
}
