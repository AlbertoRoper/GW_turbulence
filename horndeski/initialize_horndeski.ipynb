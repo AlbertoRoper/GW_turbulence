{
 "cells": [
  {
   "cell_type": "code",
   "execution_count": 1,
   "metadata": {},
   "outputs": [
    {
     "name": "stdout",
     "output_type": "stream",
     "text": [
      "\n",
      "initialize_horndeski.py is a Python routine that reads the data\n",
      "and stores the resulting run variables as pickle files.\n",
      "The simulations are those of Y. He, A. Roper Pol, A. Brandenburg,\n",
      "\"Modified propagation of gravitational waves from the early radiation\n",
      "era,\" submitted to JCAP (2022).\n",
      "\n",
      "The function run() executes the code. It is only required to be run once\n",
      "and once the pickle variables have been stored one can directly use the\n",
      "Jupyter notebook generate_horndeski.ipynb.\n",
      "\n",
      "Author: Alberto Roper Pol\n",
      "created: 01/12/2022\n",
      "\n"
     ]
    }
   ],
   "source": [
    "import initialize_horndeski as i\n",
    "print(i.__doc__)"
   ]
  },
  {
   "cell_type": "code",
   "execution_count": 3,
   "metadata": {},
   "outputs": [
    {
     "name": "stdout",
     "output_type": "stream",
     "text": [
      "mkdir: dir_runs: File exists\n"
     ]
    }
   ],
   "source": [
    "### First one needs to create the directory dir_runs\n",
    "!mkdir dir_runs"
   ]
  },
  {
   "cell_type": "code",
   "execution_count": 1,
   "metadata": {},
   "outputs": [],
   "source": [
    "### In order to execute this part of the code, one needs to first download the numerical data\n",
    "### files from Zenodo (https://zenodo.org/record/7408601#.Y5c6G-zMJp8) and store them under\n",
    "### the directory horndeski/dir_runs as this notebook. Then, one can go ahead and run the cell below!!"
   ]
  },
  {
   "cell_type": "code",
   "execution_count": 2,
   "metadata": {},
   "outputs": [],
   "source": [
    "# Uncomment to run and read the results from the Pencil Code simulations after\n",
    "# the directories are ready!!\n",
    "\n",
    "i.run(rsd='all')"
   ]
  },
  {
   "cell_type": "code",
   "execution_count": null,
   "metadata": {},
   "outputs": [],
   "source": []
  }
 ],
 "metadata": {
  "kernelspec": {
   "display_name": "Python 3",
   "language": "python",
   "name": "python3"
  },
  "language_info": {
   "codemirror_mode": {
    "name": "ipython",
    "version": 3
   },
   "file_extension": ".py",
   "mimetype": "text/x-python",
   "name": "python",
   "nbconvert_exporter": "python",
   "pygments_lexer": "ipython3",
   "version": "3.8.5"
  }
 },
 "nbformat": 4,
 "nbformat_minor": 4
}
